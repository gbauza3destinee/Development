{
 "cells": [
  {
   "cell_type": "markdown",
   "metadata": {},
   "source": [
    "If __name__ == \"__main__\"\n",
    "## Name is a special variable, it tells you if code is being run from a file, or being imported. \n",
    "-- Let's you identify where code is being run from.\n",
    "-- Module one has a print statement (name will be main)\n",
    "-- Module two imports module one (name will be module1)\n",
    "\n",
    "* name is a special variable that references \n",
    "* __main__ refers to the class name not the main function \n",
    "\n",
    "If the source file is executed as the main program, the interpreter sets the __name__ variable to have a value “__main__”. If this file is being imported from another module, __name__ will be set to the module’s name."
   ]
  },
  {
   "cell_type": "code",
   "execution_count": null,
   "metadata": {},
   "outputs": [],
   "source": []
  },
  {
   "cell_type": "markdown",
   "metadata": {},
   "source": [
    "__doc__\n",
    "Can be written in any class, whatever comments are in that class will be printed as if it is documentation for the class \n",
    "\n",
    "- See Transaction Module \"\"\"comment in three quotes\"\"\"\n",
    "- Run print(taras_acct.__doc__) to see the comments\n"
   ]
  },
  {
   "cell_type": "markdown",
   "metadata": {},
   "source": [
    "A constructor will always call self within it.\n",
    "A constructor builds the object"
   ]
  },
  {
   "cell_type": "code",
   "execution_count": null,
   "metadata": {},
   "outputs": [],
   "source": [
    " def __init__(self, owner:str, transactions: list, balance:float):\n",
    "        self.owner = owner\n",
    "        self.transactions = transactions\n",
    "        self.balance = balance"
   ]
  },
  {
   "cell_type": "code",
   "execution_count": null,
   "metadata": {},
   "outputs": [],
   "source": []
  }
 ],
 "metadata": {
  "language_info": {
   "name": "python"
  }
 },
 "nbformat": 4,
 "nbformat_minor": 2
}
