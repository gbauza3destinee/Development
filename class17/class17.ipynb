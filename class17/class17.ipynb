{
 "cells": [
  {
   "cell_type": "code",
   "execution_count": null,
   "metadata": {},
   "outputs": [],
   "source": []
  },
  {
   "cell_type": "markdown",
   "metadata": {},
   "source": [
    "Class 17 \n",
    "Functions Part 2 \n",
    "\n",
    "- reduce \n",
    "\n",
    "- map"
   ]
  },
  {
   "cell_type": "markdown",
   "metadata": {},
   "source": [
    "Write a lambda function and utilize reduce to add all the numbers in this list"
   ]
  },
  {
   "cell_type": "code",
   "execution_count": null,
   "metadata": {},
   "outputs": [],
   "source": [
    "\n",
    "add_me_up = [50, 12, 9, 100, 56, 70]\n",
    "\n",
    "result = reduce(lambda a,b: a + b, add_me_up)\n",
    "print(result)"
   ]
  },
  {
   "cell_type": "markdown",
   "metadata": {},
   "source": [
    "Write a lambda function that will add ten to a list item if \n",
    "that list item is greater than or equal to 50, otherwise it will subtract five\n",
    "\n",
    "- Map uses two parameters, a function/lambda and the list "
   ]
  },
  {
   "cell_type": "code",
   "execution_count": null,
   "metadata": {},
   "outputs": [],
   "source": [
    "my_numbers = [50, 12, 19, 80, 5, 75]\n",
    "result = map(lambda n: n+10 if n >= 50 else n-5, my_numbers)\n",
    "print(list(result))\n"
   ]
  },
  {
   "cell_type": "markdown",
   "metadata": {},
   "source": [
    "Exceptions in Python  \n",
    "\n",
    "Exception Hierarchy: Exception is a class derived from Base Exception \n",
    "Try Except Else You can add an else block that will run if no exception occurs \n",
    "Finally : You can add a finally block that will be executed regardless if the try block raises an error.\n",
    "\n",
    "\n"
   ]
  },
  {
   "cell_type": "code",
   "execution_count": null,
   "metadata": {},
   "outputs": [],
   "source": [
    "for i in range(10):\n",
    "    print(i)"
   ]
  },
  {
   "cell_type": "markdown",
   "metadata": {},
   "source": [
    "Writing a try catch (try except) block in Python:"
   ]
  },
  {
   "cell_type": "code",
   "execution_count": null,
   "metadata": {},
   "outputs": [],
   "source": [
    "## Dividing by zero \n",
    "numerator = 5\n",
    "denominator = 0\n",
    "\n",
    "## result = numerator/ denominator \n",
    "numerator = int(input(\"Please enter your number\"))\n",
    "denominator = int(input(\"Please enter your denominator\"))\n",
    "\n",
    "try:\n",
    "    quotient = numerator/denominator\n",
    "    print(\"Your quotient is\", quotient)\n",
    "except ZeroDivisionError:\n",
    "    print(\"Sorry, You cannot divide by zero\")"
   ]
  },
  {
   "cell_type": "code",
   "execution_count": null,
   "metadata": {},
   "outputs": [],
   "source": [
    "### TRY EXCEPT\n",
    "\n",
    "userin = input(\"Enter a number: \")\n",
    "num_list = []\n",
    "\n",
    "try: \n",
    "    num_list.append(float(userin))\n",
    "    print(num_list)\n",
    "except ValueError:\n",
    "    print(\"That's not a number!\")\n"
   ]
  },
  {
   "cell_type": "markdown",
   "metadata": {},
   "source": [
    "TRY CATCH ELSE FINALLY"
   ]
  },
  {
   "cell_type": "code",
   "execution_count": null,
   "metadata": {},
   "outputs": [],
   "source": [
    "\n",
    "try : \n",
    "    userin = int(input(\"Enter your age\"))\n",
    "except ValueError: \n",
    "    print(\"Age must be an integer value\")\n",
    "else : \n",
    "    print(\"Eligible for discount\") if userin >= 65 else print(\"Ineligible for discount\")\n",
    "finally:\n",
    "    print(\"Hello I run no matter what\")\n"
   ]
  },
  {
   "cell_type": "markdown",
   "metadata": {},
   "source": [
    "Except value e can be stored "
   ]
  },
  {
   "cell_type": "code",
   "execution_count": null,
   "metadata": {},
   "outputs": [],
   "source": [
    "except ValueError as e:\n",
    "    print(f\"Error: {e}\")"
   ]
  }
 ],
 "metadata": {
  "kernelspec": {
   "display_name": "Python 3",
   "language": "python",
   "name": "python3"
  },
  "language_info": {
   "codemirror_mode": {
    "name": "ipython",
    "version": 3
   },
   "file_extension": ".py",
   "mimetype": "text/x-python",
   "name": "python",
   "nbconvert_exporter": "python",
   "pygments_lexer": "ipython3",
   "version": "3.12.4"
  }
 },
 "nbformat": 4,
 "nbformat_minor": 2
}
