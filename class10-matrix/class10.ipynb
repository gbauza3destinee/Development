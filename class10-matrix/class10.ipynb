{
 "cells": [
  {
   "cell_type": "code",
   "execution_count": null,
   "metadata": {},
   "outputs": [],
   "source": [
    "data = [[45, 56, 89], [67, 34, 78], [23, 67, 34]]\n",
    "\n",
    "counter = 1\n",
    "for row in data:\n",
    "  sum = 0\n",
    "  for column in row:\n",
    "    sum += column\n",
    "  avg = sum / 3\n",
    "  print(f\"Column {counter}: Sum = {sum}, Average = {avg}\")\n",
    "  counter +=1"
   ]
  },
  {
   "cell_type": "markdown",
   "metadata": {},
   "source": [
    "Find the sum and average "
   ]
  }
 ],
 "metadata": {
  "language_info": {
   "name": "python"
  }
 },
 "nbformat": 4,
 "nbformat_minor": 2
}
