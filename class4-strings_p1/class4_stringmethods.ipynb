{
 "cells": [
  {
   "cell_type": "markdown",
   "metadata": {},
   "source": [
    "Class 4 Strings Part 1 \n",
    "*** Concatenation : Can only happen between two strings \n",
    "*** Multiplication : can only happen between a String and a number\n"
   ]
  },
  {
   "cell_type": "code",
   "execution_count": 5,
   "metadata": {},
   "outputs": [
    {
     "name": "stdout",
     "output_type": "stream",
     "text": [
      "There are24hours in a day\n"
     ]
    }
   ],
   "source": [
    "#Concatenation \n",
    "# can only concatenate two STRINGS\n",
    "hours = str(24)\n",
    "print(\"There are\" + hours + \"hours in a day\")"
   ]
  },
  {
   "cell_type": "code",
   "execution_count": null,
   "metadata": {},
   "outputs": [],
   "source": [
    "## Concatenation\n",
    "str1 = \"Hi\"\n",
    "str2 = \"There\"\n",
    "\n",
    "str3 = str1 + str2\n",
    "print(str3)"
   ]
  },
  {
   "cell_type": "markdown",
   "metadata": {},
   "source": [
    "String Methods:  https://www.w3schools.com/python/python_ref_string.asp\n",
    "\n",
    "- Capitalize()\n",
    "\n",
    "- Casefold()\n",
    "\n",
    "- Center()\n",
    "\n",
    "- Count()\n",
    "\n",
    "- ExpandTabs()"
   ]
  },
  {
   "cell_type": "code",
   "execution_count": null,
   "metadata": {},
   "outputs": [
    {
     "name": "stdout",
     "output_type": "stream",
     "text": [
      "There are 24 in a day\n"
     ]
    }
   ],
   "source": [
    "#Using a comma puts a space in the string\n",
    "hours = 24\n",
    "print(\"There are\" , hours, \"hours in a day\")\n"
   ]
  },
  {
   "cell_type": "code",
   "execution_count": null,
   "metadata": {},
   "outputs": [
    {
     "name": "stdout",
     "output_type": "stream",
     "text": [
      "There are24hours in a day\n"
     ]
    }
   ],
   "source": [
    "## Does not include spaces when concatenating\n",
    "## Cannot concatenate String + integer, must both be strings\n",
    "hours = str(24)\n",
    "print(\"There are\" + hours +  \"hours in a day\")\n"
   ]
  },
  {
   "cell_type": "code",
   "execution_count": null,
   "metadata": {},
   "outputs": [],
   "source": [
    "## Formatted Strings include f character\n",
    "hours = 24\n",
    "print(f\"There are {hours} in a day\")\n",
    "\n",
    "## Formatting two variables works like this \n",
    "day_of_week = \"Wednesday\"\n",
    "print(f\"There are {hours} in a day, and today is {day_of_week}\")"
   ]
  },
  {
   "cell_type": "code",
   "execution_count": 4,
   "metadata": {},
   "outputs": [
    {
     "name": "stdout",
     "output_type": "stream",
     "text": [
      "hip hip hoorayhip hip hoorayhip hip hooray\n"
     ]
    }
   ],
   "source": [
    "## Multiplication of Strings\n",
    "\n",
    "greeting = 'hip hip hooray'\n",
    "three_cheers = greeting * 3\n",
    "print(three_cheers)"
   ]
  },
  {
   "cell_type": "markdown",
   "metadata": {},
   "source": [
    "The \"in\" keywords \n",
    "To solve problems looking into a String\n",
    "\n",
    "ex:  \n",
    "Using the 'in' keyword solve the following\n",
    "\n",
    "Is 'a' in giraffe? \n",
    "Is 'z' in birthday?\n",
    "Is 'w' in wrapper?"
   ]
  },
  {
   "cell_type": "code",
   "execution_count": null,
   "metadata": {},
   "outputs": [],
   "source": [
    "# \"In\" is case - sensitive so it won't read it if it's capitalized and lowercase \n",
    "print(\"a\" in \"giraffe\") #prints True\n",
    "print(\"z\" in \"birthday\")#prints False"
   ]
  },
  {
   "cell_type": "markdown",
   "metadata": {},
   "source": [
    "The Length Method: \n",
    "Find the length of each of these Strings: \n",
    "\n",
    "Pardon\n",
    "Halloween\n",
    "Ice Cream\n",
    "Tank\n",
    "Laptop"
   ]
  },
  {
   "cell_type": "code",
   "execution_count": null,
   "metadata": {},
   "outputs": [],
   "source": [
    "pardon = \"pardon\"\n",
    "print(len(pardon))\n",
    "\n",
    "halloween = \"halloween\"\n",
    "print(len(halloween))\n",
    "\n",
    "# the space will count as a char\n",
    "iceCream = \"ice cream\"\n",
    "print(iceCream)\n",
    "\n",
    "print(len(\"tank\"))\n",
    "\n",
    "print(len(\"laptop\"))"
   ]
  },
  {
   "cell_type": "markdown",
   "metadata": {},
   "source": [
    "Sanitizing data \n",
    "\n",
    ".capitalize() -> makes every char uppercase\n",
    "\n",
    ".caseFold() -> converts all chars to lowercase\n",
    "\n",
    ".lower() -> converts all chars to lowercase"
   ]
  },
  {
   "cell_type": "markdown",
   "metadata": {},
   "source": [
    "The Count method -> Takes in an argument that is passed in the () "
   ]
  },
  {
   "cell_type": "code",
   "execution_count": null,
   "metadata": {},
   "outputs": [],
   "source": [
    "# count() Returns the number of times a specified value occurs in a string\n",
    "my_string = 'abracadabra'\n",
    "\n",
    "letter_count = my_string.count(\"a\")\n",
    "print(letter_count)\n",
    "## Result is 5 \n",
    "## if char doesn't exist will return 0\n",
    "\n",
    "## START END parameter (\"char\", start, end )\n",
    "start_stop = my_string.count(\"a\", 0, 2)\n",
    "print(start_stop)\n"
   ]
  },
  {
   "cell_type": "markdown",
   "metadata": {},
   "source": [
    "FIND method\n",
    "Returns index where a character exists in a String, else: \n",
    "# Note: Find returns -1 if the character is not in the string\n",
    "---> Does NOT return an error if character is not find, whereas in index() it is"
   ]
  },
  {
   "cell_type": "markdown",
   "metadata": {},
   "source": [
    "Does not require paramaters\n",
    "\n",
    ".isAlnum() : is Alphanumeric (Character or Digit no SYMBOLS)\n",
    "\n",
    ".isAlpha() : Returns true if all characters are in the alphabet (letters only)\n",
    "word_four = 'abc123'\n",
    "word_four.isAlpha()\n",
    "## False\n",
    "\n",
    ".isdecimal() : Returns True if all characters in the string are decimals\n",
    "\n",
    ".isDigit(): \n",
    "# isdigit fails if there's whitespace\n",
    "# returns true even if whole number \n",
    "\n",
    ".isLower()\n",
    "\n",
    ".isSpace() : Identifies if char is whitespace"
   ]
  },
  {
   "cell_type": "markdown",
   "metadata": {},
   "source": [
    "Receiving User Input"
   ]
  },
  {
   "cell_type": "code",
   "execution_count": 6,
   "metadata": {},
   "outputs": [
    {
     "name": "stdout",
     "output_type": "stream",
     "text": [
      "What is your name?\n",
      "You typed indes\n"
     ]
    }
   ],
   "source": [
    "print(\"What is your name?\")\n",
    "first_name = input()\n",
    "print(f\"You typed in {first_name}\")"
   ]
  },
  {
   "cell_type": "code",
   "execution_count": null,
   "metadata": {},
   "outputs": [],
   "source": [
    "first_name = input(\"What is your name\")\n",
    "print(f\"You typed in {first_name}\")"
   ]
  }
 ],
 "metadata": {
  "kernelspec": {
   "display_name": "Python 3",
   "language": "python",
   "name": "python3"
  },
  "language_info": {
   "codemirror_mode": {
    "name": "ipython",
    "version": 3
   },
   "file_extension": ".py",
   "mimetype": "text/x-python",
   "name": "python",
   "nbconvert_exporter": "python",
   "pygments_lexer": "ipython3",
   "version": "3.12.3"
  }
 },
 "nbformat": 4,
 "nbformat_minor": 2
}
